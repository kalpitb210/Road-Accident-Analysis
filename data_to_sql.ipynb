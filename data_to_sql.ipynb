{
 "cells": [
  {
   "cell_type": "code",
   "execution_count": 1,
   "id": "33fa20da-122e-4054-b1ca-89494363bb49",
   "metadata": {},
   "outputs": [],
   "source": [
    "# Import Libraries\n",
    "import pandas as pd\n",
    "import mysql.connector\n",
    "import os"
   ]
  },
  {
   "cell_type": "code",
   "execution_count": 2,
   "id": "5168481d-3271-435f-9c60-7750512a5398",
   "metadata": {},
   "outputs": [],
   "source": [
    "# Define folder of all CSV files\n",
    "folder_path = 'E:\\Data'"
   ]
  },
  {
   "cell_type": "code",
   "execution_count": 3,
   "id": "c9991885-12ff-4cac-8871-ad5177f41039",
   "metadata": {},
   "outputs": [],
   "source": [
    "# CSV files and their corresponding table names\n",
    "csv_files = [  \n",
    "    ('accident_data.csv', 'accident_data')\n",
    "]"
   ]
  },
  {
   "cell_type": "code",
   "execution_count": 4,
   "id": "31551f59-1367-4e94-8ed5-fdd09d0f4de8",
   "metadata": {},
   "outputs": [],
   "source": [
    "# Connect python to the MySQL database\n",
    "conn = mysql.connector.connect(\n",
    "    host='127.0.0.1',\n",
    "    user='root',\n",
    "    password='kalpit',\n",
    "    database='road_accident_analysis',\n",
    "    port=3306,\n",
    "    auth_plugin='mysql_native_password'\n",
    ")"
   ]
  },
  {
   "cell_type": "code",
   "execution_count": 5,
   "id": "dae26d7f-15f3-422a-a752-201d715371b5",
   "metadata": {},
   "outputs": [],
   "source": [
    "# Creating cursor object\n",
    "cursor = conn.cursor()"
   ]
  },
  {
   "cell_type": "code",
   "execution_count": 6,
   "id": "0dc58681-3269-4a0f-8f7b-f9a3c4010505",
   "metadata": {},
   "outputs": [
    {
     "name": "stdout",
     "output_type": "stream",
     "text": [
      "Processing accident_data.csv\n",
      "NaN values before replacement:\n",
      "Accident_Index                     0\n",
      "Accident Date                      0\n",
      "Day_of_Week                        0\n",
      "Junction_Control                   0\n",
      "Junction_Detail                    0\n",
      "Accident_Severity                  0\n",
      "Latitude                           0\n",
      "Light_Conditions                   0\n",
      "Local_Authority_(District)         0\n",
      "Carriageway_Hazards           302549\n",
      "Longitude                          0\n",
      "Number_of_Casualties               0\n",
      "Number_of_Vehicles                 0\n",
      "Police_Force                       0\n",
      "Road_Surface_Conditions          317\n",
      "Road_Type                       1534\n",
      "Speed_limit                        0\n",
      "Time                              17\n",
      "Urban_or_Rural_Area                0\n",
      "Weather_Conditions              6057\n",
      "Vehicle_Type                       0\n",
      "dtype: int64\n",
      "\n"
     ]
    }
   ],
   "source": [
    "# Defining \n",
    "def get_sql_type(dtype):\n",
    "    if pd.api.types.is_integer_dtype(dtype):\n",
    "        return 'INT'\n",
    "    elif pd.api.types.is_float_dtype(dtype):\n",
    "        return 'FLOAT'\n",
    "    elif pd.api.types.is_bool_dtype(dtype):\n",
    "        return 'BOOLEAN'\n",
    "    elif pd.api.types.is_datetime64_any_dtype(dtype):\n",
    "        return 'DATETIME'\n",
    "    else:\n",
    "        return 'TEXT'\n",
    "\n",
    "for csv_file, table_name in csv_files:\n",
    "    file_path = os.path.join(folder_path, csv_file)\n",
    "    \n",
    "    # Read the CSV file into a pandas DataFrame\n",
    "    df = pd.read_csv(file_path)\n",
    "    \n",
    "    # Replace NaN with None to handle SQL NULL\n",
    "    df = df.where(pd.notnull(df), None)\n",
    "    \n",
    "    # Debugging: Check for NaN values\n",
    "    print(f\"Processing {csv_file}\")\n",
    "    print(f\"NaN values before replacement:\\n{df.isnull().sum()}\\n\")\n",
    "\n",
    "    # Clean column names\n",
    "    df.columns = [col.replace(' ', '_').replace('-', '_').replace('.', '_') for col in df.columns]\n",
    "\n",
    "    # Generate the CREATE TABLE statement with appropriate data types\n",
    "    columns = ', '.join([f'`{col}` {get_sql_type(df[col].dtype)}' for col in df.columns])\n",
    "    create_table_query = f'CREATE TABLE IF NOT EXISTS `{table_name}` ({columns})'\n",
    "    cursor.execute(create_table_query)\n",
    "\n",
    "    # Insert DataFrame data into the MySQL table\n",
    "    for _, row in df.iterrows():\n",
    "        # Convert row to tuple and handle NaN/None explicitly\n",
    "        values = tuple(None if pd.isna(x) else x for x in row)\n",
    "        sql = f\"INSERT INTO `{table_name}` ({', '.join(['`' + col + '`' for col in df.columns])}) VALUES ({', '.join(['%s'] * len(row))})\"\n",
    "        cursor.execute(sql, values)\n",
    "\n",
    "    # Commit the transaction for the current CSV file\n",
    "    conn.commit()"
   ]
  },
  {
   "cell_type": "code",
   "execution_count": 7,
   "id": "92fed1bd-ac78-426c-ab06-95f5f2fbb2f6",
   "metadata": {},
   "outputs": [],
   "source": [
    "# Close the connection\n",
    "conn.close()"
   ]
  }
 ],
 "metadata": {
  "kernelspec": {
   "display_name": "Python 3 (ipykernel)",
   "language": "python",
   "name": "python3"
  },
  "language_info": {
   "codemirror_mode": {
    "name": "ipython",
    "version": 3
   },
   "file_extension": ".py",
   "mimetype": "text/x-python",
   "name": "python",
   "nbconvert_exporter": "python",
   "pygments_lexer": "ipython3",
   "version": "3.11.5"
  }
 },
 "nbformat": 4,
 "nbformat_minor": 5
}
